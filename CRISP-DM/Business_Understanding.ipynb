{
  "nbformat": 4,
  "nbformat_minor": 0,
  "metadata": {
    "colab": {
      "provenance": [],
      "authorship_tag": "ABX9TyOE1D4KzGHXzuaQB8DTm31d",
      "include_colab_link": true
    },
    "kernelspec": {
      "name": "python3",
      "display_name": "Python 3"
    },
    "language_info": {
      "name": "python"
    }
  },
  "cells": [
    {
      "cell_type": "markdown",
      "metadata": {
        "id": "view-in-github",
        "colab_type": "text"
      },
      "source": [
        "<a href=\"https://colab.research.google.com/github/SoungbinC/CMPE_255/blob/assignment3/CRISP-DM/Business_Understanding.ipynb\" target=\"_parent\"><img src=\"https://colab.research.google.com/assets/colab-badge.svg\" alt=\"Open In Colab\"/></a>"
      ]
    },
    {
      "cell_type": "markdown",
      "source": [
        "# CRISP-DM: Business Understanding\n",
        "\n",
        "## Objective\n",
        "The first phase in the CRISP-DM process model is Business Understanding. This initial phase focuses on understanding the project objectives and requirements from a business perspective. The goal is to convert this knowledge into a data mining problem definition and a preliminary plan.\n",
        "\n"
      ],
      "metadata": {
        "id": "KtDzBf19DS6N"
      }
    },
    {
      "cell_type": "markdown",
      "source": [
        "# Tasks\n",
        "\n",
        "## 1.Business Objectives\n",
        "\n",
        "### background\n",
        "\n",
        "The core goal is to ascertain the loan amount that can be allocated to potential borrowers. This is pivotal for maintaining a balance between fostering customer relations and ensuring the financial stability of our organization.\n",
        "\n",
        "### business objectives\n",
        "\n",
        "From a business standpoint, the customer’s primary objective is to secure a loan amount that aligns with their needs and financial capacity. Our role is to evaluate the viability of granting the loan, considering the risk and potential return for our organization. This involves a meticulous analysis of the customer’s financial standing, creditworthiness, and the purpose of the loan.\n",
        "\n",
        "To achieve this, I will employ the Cross Industry Standard Process for Data Mining (CRISP-DM) methodology. This structured approach will facilitate a thorough understanding of the customers' requirements and enable us to make informed decisions on the approval of housing loans. Through this process, we aim to optimize our loan allocation, thereby supporting customer aspirations while safeguarding the company’s financial interests.\n",
        "\n"
      ],
      "metadata": {
        "id": "UhVVk5-uE1-6"
      }
    },
    {
      "cell_type": "markdown",
      "source": [
        "## 2 Assess Situation\n",
        "\n",
        "task\n",
        "\n",
        "- we will use loan-data set given in Kaggle"
      ],
      "metadata": {
        "id": "8jO_lNSp441V"
      }
    },
    {
      "cell_type": "markdown",
      "source": [
        "\n",
        "## 3. Determine Data Mining Goals\n",
        "\n",
        "The data mining goals are:\n",
        "\n",
        "- build predcitive model with 75 accuracy.\n",
        "\n",
        "\n",
        "\n"
      ],
      "metadata": {
        "id": "vBLyx593iYBX"
      }
    },
    {
      "cell_type": "markdown",
      "source": [
        "## 4. Project Plane\n",
        "\n",
        "- First, we will look at the data before cleaning data\n",
        "- second, do cleaning and intergrating data for modeling\n",
        "- third, model the data set\n",
        "- lastly, we will analyzie the model."
      ],
      "metadata": {
        "id": "P83IMNxG5kMB"
      }
    }
  ]
}